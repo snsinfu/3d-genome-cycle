{
 "cells": [
  {
   "cell_type": "code",
   "execution_count": 1,
   "id": "4ac19e21-2bfb-481f-9d6b-93cfd4bf9274",
   "metadata": {},
   "outputs": [],
   "source": [
    "import pandas as pd\n",
    "import re\n",
    "\n",
    "from ipywidgets.widgets import HTML"
   ]
  },
  {
   "cell_type": "code",
   "execution_count": 2,
   "id": "7cef8938-979e-41a8-81f8-b163957fb8ca",
   "metadata": {
    "jupyter": {
     "source_hidden": true
    }
   },
   "outputs": [],
   "source": [
    "chromatin_types = {\n",
    "    \"A\": \"crimson\",\n",
    "    \"B\": \"royalblue\",\n",
    "    \"u\": \"dimgray\",\n",
    "    \"?\": \"magenta\",\n",
    "}\n",
    "\n",
    "\n",
    "def extract_type(tags: list[str]) -> str:\n",
    "    for typ in tags.split(\",\"):\n",
    "        if typ in chromatin_types:\n",
    "            return typ\n",
    "    return \"?\"\n",
    "\n",
    "\n",
    "def format_type_string(s: str) -> str:\n",
    "    html = \"\"\n",
    "    for segment, typ in re.findall(r\"((.)\\2*)\", s):\n",
    "        color = chromatin_types[typ]\n",
    "        html += f\"\"\"<span style=\"color: {color}\">{segment}</span>\"\"\"\n",
    "    return html\n",
    "    \n",
    "\n",
    "def split_into_chunks(text: str, size: int) -> list[str]:\n",
    "    return [text[i:i + size] for i in range(0, len(text), size)]"
   ]
  },
  {
   "cell_type": "markdown",
   "id": "e1ac0cb2-b81a-4c55-b94e-94db73fe0f0f",
   "metadata": {},
   "source": [
    "---"
   ]
  },
  {
   "cell_type": "code",
   "execution_count": 3,
   "id": "2ed70f24-fb7b-411f-b297-f0bbf7f27a16",
   "metadata": {},
   "outputs": [
    {
     "data": {
      "text/html": [
       "<div>\n",
       "<style scoped>\n",
       "    .dataframe tbody tr th:only-of-type {\n",
       "        vertical-align: middle;\n",
       "    }\n",
       "\n",
       "    .dataframe tbody tr th {\n",
       "        vertical-align: top;\n",
       "    }\n",
       "\n",
       "    .dataframe thead th {\n",
       "        text-align: right;\n",
       "    }\n",
       "</style>\n",
       "<table border=\"1\" class=\"dataframe\">\n",
       "  <thead>\n",
       "    <tr style=\"text-align: right;\">\n",
       "      <th></th>\n",
       "      <th>chain</th>\n",
       "      <th>start</th>\n",
       "      <th>end</th>\n",
       "      <th>A</th>\n",
       "      <th>B</th>\n",
       "      <th>tags</th>\n",
       "    </tr>\n",
       "  </thead>\n",
       "  <tbody>\n",
       "    <tr>\n",
       "      <th>0</th>\n",
       "      <td>chr1:a</td>\n",
       "      <td>0</td>\n",
       "      <td>100000</td>\n",
       "      <td>0.0</td>\n",
       "      <td>1.0</td>\n",
       "      <td>B</td>\n",
       "    </tr>\n",
       "    <tr>\n",
       "      <th>1</th>\n",
       "      <td>chr1:a</td>\n",
       "      <td>100000</td>\n",
       "      <td>200000</td>\n",
       "      <td>0.0</td>\n",
       "      <td>1.0</td>\n",
       "      <td>B</td>\n",
       "    </tr>\n",
       "  </tbody>\n",
       "</table>\n",
       "</div>"
      ],
      "text/plain": [
       "    chain   start     end    A    B tags\n",
       "0  chr1:a       0  100000  0.0  1.0    B\n",
       "1  chr1:a  100000  200000  0.0  1.0    B"
      ]
     },
     "execution_count": 3,
     "metadata": {},
     "output_type": "execute_result"
    }
   ],
   "source": [
    "chains_filename = \"chains.tsv\"\n",
    "\n",
    "chains_table = pd.read_csv(chains_filename, sep=\"\\t\")\n",
    "binsize, = chains_table.eval(\"end - start\").mode()\n",
    "\n",
    "chains_table.head(2)"
   ]
  },
  {
   "cell_type": "markdown",
   "id": "18907a4d-27d0-4896-8419-b7edc8a65e2c",
   "metadata": {},
   "source": [
    "### Type distribution"
   ]
  },
  {
   "cell_type": "code",
   "execution_count": 4,
   "id": "de50e14f-f8f6-4517-99dc-beed2ea5a330",
   "metadata": {},
   "outputs": [
    {
     "name": "stdout",
     "output_type": "stream",
     "text": [
      "A: 25407 (41.9 %)\n",
      "B: 18287 (30.2 %)\n",
      "u: 16948 (27.9 %)\n"
     ]
    }
   ],
   "source": [
    "type_counts = chains_table[\"tags\"].map(extract_type).value_counts()\n",
    "site_count = len(chains_table)\n",
    "\n",
    "for typ, count in type_counts.items():\n",
    "    print(\"{}: {} ({:.1f} %)\".format(typ, count, 100 * count / site_count))"
   ]
  },
  {
   "cell_type": "markdown",
   "id": "9f075062-3246-4669-807f-3c1a656b7035",
   "metadata": {},
   "source": [
    "### Annotation"
   ]
  },
  {
   "cell_type": "code",
   "execution_count": 5,
   "id": "5d6ecceb-372e-4186-9604-5fdbb0acf4c8",
   "metadata": {},
   "outputs": [],
   "source": [
    "chrom, start, end = \"chr20\", 0, 1e10\n",
    "chain = f\"{chrom}:a\"\n",
    "\n",
    "row_length = 50\n",
    "chunk_length = 10"
   ]
  },
  {
   "cell_type": "code",
   "execution_count": 6,
   "id": "0468b356-ff30-4c59-a46f-8cbbaf0542d4",
   "metadata": {
    "jupyter": {
     "source_hidden": true
    }
   },
   "outputs": [
    {
     "data": {
      "application/vnd.jupyter.widget-view+json": {
       "model_id": "7e563ecf1a1443db9d504c7be8733fcd",
       "version_major": 2,
       "version_minor": 0
      },
      "text/plain": [
       "HTML(value='<pre style=\"font: 16px/1.5 \\'Lucida Console\\'\"><strong>chr20</strong> (100,000bp bins)\\n          …"
      ]
     },
     "execution_count": 6,
     "metadata": {},
     "output_type": "execute_result"
    }
   ],
   "source": [
    "section = (\n",
    "    chains_table\n",
    "    .query(f\"chain == @chain and start >= @start and end <= @end\")\n",
    ")\n",
    "type_string = \"\".join(section[\"tags\"].map(extract_type))\n",
    "\n",
    "# Format the long type string as a tabular text.\n",
    "row_starts = section[\"start\"].iloc[::row_length]\n",
    "row_strings = split_into_chunks(type_string, row_length)\n",
    "assert len(row_starts) == len(row_strings)\n",
    "\n",
    "html = \"\"\"<pre style=\"font: 16px/1.5 'Lucida Console'\">\"\"\"\n",
    "html += f\"<strong>{chrom}</strong> ({binsize:,d}bp bins)\\n\"\n",
    "\n",
    "for row_start, row_string in zip(row_starts, row_strings):\n",
    "    html += f\"{row_start:12,d}bp   \"\n",
    "    html += \" \".join(\n",
    "        format_type_string(chunk)\n",
    "        for chunk in split_into_chunks(row_string, chunk_length)\n",
    "    )\n",
    "    html += \"\\n\"\n",
    "\n",
    "html += \"</pre>\"\n",
    "\n",
    "HTML(html)"
   ]
  }
 ],
 "metadata": {
  "kernelspec": {
   "display_name": "Python 3 (ipykernel)",
   "language": "python",
   "name": "python3"
  },
  "language_info": {
   "codemirror_mode": {
    "name": "ipython",
    "version": 3
   },
   "file_extension": ".py",
   "mimetype": "text/x-python",
   "name": "python",
   "nbconvert_exporter": "python",
   "pygments_lexer": "ipython3",
   "version": "3.10.13"
  }
 },
 "nbformat": 4,
 "nbformat_minor": 5
}
